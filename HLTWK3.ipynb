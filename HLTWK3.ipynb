{
  "nbformat": 4,
  "nbformat_minor": 0,
  "metadata": {
    "colab": {
      "name": "HLTWK3.ipynb",
      "provenance": [],
      "mount_file_id": "1KqQiyOXlStXiF2vSC6Jq3eSyGkBMNybv",
      "authorship_tag": "ABX9TyOJiuJhMU9LsLyOsbGceK5X",
      "include_colab_link": true
    },
    "kernelspec": {
      "name": "python3",
      "display_name": "Python 3"
    },
    "language_info": {
      "name": "python"
    }
  },
  "cells": [
    {
      "cell_type": "markdown",
      "metadata": {
        "id": "view-in-github",
        "colab_type": "text"
      },
      "source": [
        "<a href=\"https://colab.research.google.com/github/Shifahu/TTA/blob/main/HLTWK3.ipynb\" target=\"_parent\"><img src=\"https://colab.research.google.com/assets/colab-badge.svg\" alt=\"Open In Colab\"/></a>"
      ]
    },
    {
      "cell_type": "code",
      "metadata": {
        "id": "Cv4niMpyynKa"
      },
      "source": [
        "import numpy as np"
      ],
      "execution_count": null,
      "outputs": []
    },
    {
      "cell_type": "code",
      "metadata": {
        "colab": {
          "base_uri": "https://localhost:8080/"
        },
        "id": "9nmeHF9dQBkC",
        "outputId": "69830b8e-b731-41c2-fb4b-bba5ef503a63"
      },
      "source": [
        "from google.colab import drive\n",
        "drive.mount('/content/drive')"
      ],
      "execution_count": 3,
      "outputs": [
        {
          "output_type": "stream",
          "name": "stdout",
          "text": [
            "Drive already mounted at /content/drive; to attempt to forcibly remount, call drive.mount(\"/content/drive\", force_remount=True).\n"
          ]
        }
      ]
    },
    {
      "cell_type": "code",
      "metadata": {
        "id": "DtntWTO5MtSd",
        "colab": {
          "base_uri": "https://localhost:8080/",
          "height": 363
        },
        "outputId": "dfb7f38a-c0db-4423-a60b-3630532dbf0c"
      },
      "source": [
        "import pandas as pd\n",
        "import altair as alt\n",
        "\n",
        "df = pd.read_csv(\"https://archive.ics.uci.edu/ml/machine-learning-databases/iris/iris.data\",\n",
        "                 names =[\"Sepal Length\",\"Sepal Width\", \"Petal Length\", \"Petal Width\", \"Class\"])\n",
        "\n",
        "\n",
        "petals = alt.Chart(df).mark_point(size=10).encode(\n",
        "    x =alt.X(\"Petal Length\", bin=alt.Bin(maxbins=50)),\n",
        "    y = \"Petal Width\",\n",
        "    color=\"Class\"\n",
        ")\n",
        "\n",
        "\n",
        "\n",
        "\n"
      ],
      "execution_count": 16,
      "outputs": [
        {
          "output_type": "execute_result",
          "data": {
            "text/plain": [
              "alt.Chart(...)"
            ],
            "text/html": [
              "\n",
              "<div id=\"altair-viz-cdeeff95187b46de9c756106135aafa0\"></div>\n",
              "<script type=\"text/javascript\">\n",
              "  (function(spec, embedOpt){\n",
              "    let outputDiv = document.currentScript.previousElementSibling;\n",
              "    if (outputDiv.id !== \"altair-viz-cdeeff95187b46de9c756106135aafa0\") {\n",
              "      outputDiv = document.getElementById(\"altair-viz-cdeeff95187b46de9c756106135aafa0\");\n",
              "    }\n",
              "    const paths = {\n",
              "      \"vega\": \"https://cdn.jsdelivr.net/npm//vega@5?noext\",\n",
              "      \"vega-lib\": \"https://cdn.jsdelivr.net/npm//vega-lib?noext\",\n",
              "      \"vega-lite\": \"https://cdn.jsdelivr.net/npm//vega-lite@4.8.1?noext\",\n",
              "      \"vega-embed\": \"https://cdn.jsdelivr.net/npm//vega-embed@6?noext\",\n",
              "    };\n",
              "\n",
              "    function loadScript(lib) {\n",
              "      return new Promise(function(resolve, reject) {\n",
              "        var s = document.createElement('script');\n",
              "        s.src = paths[lib];\n",
              "        s.async = true;\n",
              "        s.onload = () => resolve(paths[lib]);\n",
              "        s.onerror = () => reject(`Error loading script: ${paths[lib]}`);\n",
              "        document.getElementsByTagName(\"head\")[0].appendChild(s);\n",
              "      });\n",
              "    }\n",
              "\n",
              "    function showError(err) {\n",
              "      outputDiv.innerHTML = `<div class=\"error\" style=\"color:red;\">${err}</div>`;\n",
              "      throw err;\n",
              "    }\n",
              "\n",
              "    function displayChart(vegaEmbed) {\n",
              "      vegaEmbed(outputDiv, spec, embedOpt)\n",
              "        .catch(err => showError(`Javascript Error: ${err.message}<br>This usually means there's a typo in your chart specification. See the javascript console for the full traceback.`));\n",
              "    }\n",
              "\n",
              "    if(typeof define === \"function\" && define.amd) {\n",
              "      requirejs.config({paths});\n",
              "      require([\"vega-embed\"], displayChart, err => showError(`Error loading script: ${err.message}`));\n",
              "    } else if (typeof vegaEmbed === \"function\") {\n",
              "      displayChart(vegaEmbed);\n",
              "    } else {\n",
              "      loadScript(\"vega\")\n",
              "        .then(() => loadScript(\"vega-lite\"))\n",
              "        .then(() => loadScript(\"vega-embed\"))\n",
              "        .catch(showError)\n",
              "        .then(() => displayChart(vegaEmbed));\n",
              "    }\n",
              "  })({\"config\": {\"view\": {\"continuousWidth\": 400, \"continuousHeight\": 300}}, \"data\": {\"name\": \"data-ac6934c2f4458f3f04cac25a1411fd13\"}, \"mark\": {\"type\": \"point\", \"size\": 10}, \"encoding\": {\"color\": {\"type\": \"nominal\", \"field\": \"Class\"}, \"x\": {\"type\": \"quantitative\", \"bin\": {\"maxbins\": 50}, \"field\": \"Petal Length\"}, \"y\": {\"type\": \"quantitative\", \"field\": \"Petal Width\"}}, \"$schema\": \"https://vega.github.io/schema/vega-lite/v4.8.1.json\", \"datasets\": {\"data-ac6934c2f4458f3f04cac25a1411fd13\": [{\"Sepal Length\": 5.1, \"Sepal Width\": 3.5, \"Petal Length\": 1.4, \"Petal Width\": 0.2, \"Class\": \"Iris-setosa\"}, {\"Sepal Length\": 4.9, \"Sepal Width\": 3.0, \"Petal Length\": 1.4, \"Petal Width\": 0.2, \"Class\": \"Iris-setosa\"}, {\"Sepal Length\": 4.7, \"Sepal Width\": 3.2, \"Petal Length\": 1.3, \"Petal Width\": 0.2, \"Class\": \"Iris-setosa\"}, {\"Sepal Length\": 4.6, \"Sepal Width\": 3.1, \"Petal Length\": 1.5, \"Petal Width\": 0.2, \"Class\": \"Iris-setosa\"}, {\"Sepal Length\": 5.0, \"Sepal Width\": 3.6, \"Petal Length\": 1.4, \"Petal Width\": 0.2, \"Class\": \"Iris-setosa\"}, {\"Sepal Length\": 5.4, \"Sepal Width\": 3.9, \"Petal Length\": 1.7, \"Petal Width\": 0.4, \"Class\": \"Iris-setosa\"}, {\"Sepal Length\": 4.6, \"Sepal Width\": 3.4, \"Petal Length\": 1.4, \"Petal Width\": 0.3, \"Class\": \"Iris-setosa\"}, {\"Sepal Length\": 5.0, \"Sepal Width\": 3.4, \"Petal Length\": 1.5, \"Petal Width\": 0.2, \"Class\": \"Iris-setosa\"}, {\"Sepal Length\": 4.4, \"Sepal Width\": 2.9, \"Petal Length\": 1.4, \"Petal Width\": 0.2, \"Class\": \"Iris-setosa\"}, {\"Sepal Length\": 4.9, \"Sepal Width\": 3.1, \"Petal Length\": 1.5, \"Petal Width\": 0.1, \"Class\": \"Iris-setosa\"}, {\"Sepal Length\": 5.4, \"Sepal Width\": 3.7, \"Petal Length\": 1.5, \"Petal Width\": 0.2, \"Class\": \"Iris-setosa\"}, {\"Sepal Length\": 4.8, \"Sepal Width\": 3.4, \"Petal Length\": 1.6, \"Petal Width\": 0.2, \"Class\": \"Iris-setosa\"}, {\"Sepal Length\": 4.8, \"Sepal Width\": 3.0, \"Petal Length\": 1.4, \"Petal Width\": 0.1, \"Class\": \"Iris-setosa\"}, {\"Sepal Length\": 4.3, \"Sepal Width\": 3.0, \"Petal Length\": 1.1, \"Petal Width\": 0.1, \"Class\": \"Iris-setosa\"}, {\"Sepal Length\": 5.8, \"Sepal Width\": 4.0, \"Petal Length\": 1.2, \"Petal Width\": 0.2, \"Class\": \"Iris-setosa\"}, {\"Sepal Length\": 5.7, \"Sepal Width\": 4.4, \"Petal Length\": 1.5, \"Petal Width\": 0.4, \"Class\": \"Iris-setosa\"}, {\"Sepal Length\": 5.4, \"Sepal Width\": 3.9, \"Petal Length\": 1.3, \"Petal Width\": 0.4, \"Class\": \"Iris-setosa\"}, {\"Sepal Length\": 5.1, \"Sepal Width\": 3.5, \"Petal Length\": 1.4, \"Petal Width\": 0.3, \"Class\": \"Iris-setosa\"}, {\"Sepal Length\": 5.7, \"Sepal Width\": 3.8, \"Petal Length\": 1.7, \"Petal Width\": 0.3, \"Class\": \"Iris-setosa\"}, {\"Sepal Length\": 5.1, \"Sepal Width\": 3.8, \"Petal Length\": 1.5, \"Petal Width\": 0.3, \"Class\": \"Iris-setosa\"}, {\"Sepal Length\": 5.4, \"Sepal Width\": 3.4, \"Petal Length\": 1.7, \"Petal Width\": 0.2, \"Class\": \"Iris-setosa\"}, {\"Sepal Length\": 5.1, \"Sepal Width\": 3.7, \"Petal Length\": 1.5, \"Petal Width\": 0.4, \"Class\": \"Iris-setosa\"}, {\"Sepal Length\": 4.6, \"Sepal Width\": 3.6, \"Petal Length\": 1.0, \"Petal Width\": 0.2, \"Class\": \"Iris-setosa\"}, {\"Sepal Length\": 5.1, \"Sepal Width\": 3.3, \"Petal Length\": 1.7, \"Petal Width\": 0.5, \"Class\": \"Iris-setosa\"}, {\"Sepal Length\": 4.8, \"Sepal Width\": 3.4, \"Petal Length\": 1.9, \"Petal Width\": 0.2, \"Class\": \"Iris-setosa\"}, {\"Sepal Length\": 5.0, \"Sepal Width\": 3.0, \"Petal Length\": 1.6, \"Petal Width\": 0.2, \"Class\": \"Iris-setosa\"}, {\"Sepal Length\": 5.0, \"Sepal Width\": 3.4, \"Petal Length\": 1.6, \"Petal Width\": 0.4, \"Class\": \"Iris-setosa\"}, {\"Sepal Length\": 5.2, \"Sepal Width\": 3.5, \"Petal Length\": 1.5, \"Petal Width\": 0.2, \"Class\": \"Iris-setosa\"}, {\"Sepal Length\": 5.2, \"Sepal Width\": 3.4, \"Petal Length\": 1.4, \"Petal Width\": 0.2, \"Class\": \"Iris-setosa\"}, {\"Sepal Length\": 4.7, \"Sepal Width\": 3.2, \"Petal Length\": 1.6, \"Petal Width\": 0.2, \"Class\": \"Iris-setosa\"}, {\"Sepal Length\": 4.8, \"Sepal Width\": 3.1, \"Petal Length\": 1.6, \"Petal Width\": 0.2, \"Class\": \"Iris-setosa\"}, {\"Sepal Length\": 5.4, \"Sepal Width\": 3.4, \"Petal Length\": 1.5, \"Petal Width\": 0.4, \"Class\": \"Iris-setosa\"}, {\"Sepal Length\": 5.2, \"Sepal Width\": 4.1, \"Petal Length\": 1.5, \"Petal Width\": 0.1, \"Class\": \"Iris-setosa\"}, {\"Sepal Length\": 5.5, \"Sepal Width\": 4.2, \"Petal Length\": 1.4, \"Petal Width\": 0.2, \"Class\": \"Iris-setosa\"}, {\"Sepal Length\": 4.9, \"Sepal Width\": 3.1, \"Petal Length\": 1.5, \"Petal Width\": 0.1, \"Class\": \"Iris-setosa\"}, {\"Sepal Length\": 5.0, \"Sepal Width\": 3.2, \"Petal Length\": 1.2, \"Petal Width\": 0.2, \"Class\": \"Iris-setosa\"}, {\"Sepal Length\": 5.5, \"Sepal Width\": 3.5, \"Petal Length\": 1.3, \"Petal Width\": 0.2, \"Class\": \"Iris-setosa\"}, {\"Sepal Length\": 4.9, \"Sepal Width\": 3.1, \"Petal Length\": 1.5, \"Petal Width\": 0.1, \"Class\": \"Iris-setosa\"}, {\"Sepal Length\": 4.4, \"Sepal Width\": 3.0, \"Petal Length\": 1.3, \"Petal Width\": 0.2, \"Class\": \"Iris-setosa\"}, {\"Sepal Length\": 5.1, \"Sepal Width\": 3.4, \"Petal Length\": 1.5, \"Petal Width\": 0.2, \"Class\": \"Iris-setosa\"}, {\"Sepal Length\": 5.0, \"Sepal Width\": 3.5, \"Petal Length\": 1.3, \"Petal Width\": 0.3, \"Class\": \"Iris-setosa\"}, {\"Sepal Length\": 4.5, \"Sepal Width\": 2.3, \"Petal Length\": 1.3, \"Petal Width\": 0.3, \"Class\": \"Iris-setosa\"}, {\"Sepal Length\": 4.4, \"Sepal Width\": 3.2, \"Petal Length\": 1.3, \"Petal Width\": 0.2, \"Class\": \"Iris-setosa\"}, {\"Sepal Length\": 5.0, \"Sepal Width\": 3.5, \"Petal Length\": 1.6, \"Petal Width\": 0.6, \"Class\": \"Iris-setosa\"}, {\"Sepal Length\": 5.1, \"Sepal Width\": 3.8, \"Petal Length\": 1.9, \"Petal Width\": 0.4, \"Class\": \"Iris-setosa\"}, {\"Sepal Length\": 4.8, \"Sepal Width\": 3.0, \"Petal Length\": 1.4, \"Petal Width\": 0.3, \"Class\": \"Iris-setosa\"}, {\"Sepal Length\": 5.1, \"Sepal Width\": 3.8, \"Petal Length\": 1.6, \"Petal Width\": 0.2, \"Class\": \"Iris-setosa\"}, {\"Sepal Length\": 4.6, \"Sepal Width\": 3.2, \"Petal Length\": 1.4, \"Petal Width\": 0.2, \"Class\": \"Iris-setosa\"}, {\"Sepal Length\": 5.3, \"Sepal Width\": 3.7, \"Petal Length\": 1.5, \"Petal Width\": 0.2, \"Class\": \"Iris-setosa\"}, {\"Sepal Length\": 5.0, \"Sepal Width\": 3.3, \"Petal Length\": 1.4, \"Petal Width\": 0.2, \"Class\": \"Iris-setosa\"}, {\"Sepal Length\": 7.0, \"Sepal Width\": 3.2, \"Petal Length\": 4.7, \"Petal Width\": 1.4, \"Class\": \"Iris-versicolor\"}, {\"Sepal Length\": 6.4, \"Sepal Width\": 3.2, \"Petal Length\": 4.5, \"Petal Width\": 1.5, \"Class\": \"Iris-versicolor\"}, {\"Sepal Length\": 6.9, \"Sepal Width\": 3.1, \"Petal Length\": 4.9, \"Petal Width\": 1.5, \"Class\": \"Iris-versicolor\"}, {\"Sepal Length\": 5.5, \"Sepal Width\": 2.3, \"Petal Length\": 4.0, \"Petal Width\": 1.3, \"Class\": \"Iris-versicolor\"}, {\"Sepal Length\": 6.5, \"Sepal Width\": 2.8, \"Petal Length\": 4.6, \"Petal Width\": 1.5, \"Class\": \"Iris-versicolor\"}, {\"Sepal Length\": 5.7, \"Sepal Width\": 2.8, \"Petal Length\": 4.5, \"Petal Width\": 1.3, \"Class\": \"Iris-versicolor\"}, {\"Sepal Length\": 6.3, \"Sepal Width\": 3.3, \"Petal Length\": 4.7, \"Petal Width\": 1.6, \"Class\": \"Iris-versicolor\"}, {\"Sepal Length\": 4.9, \"Sepal Width\": 2.4, \"Petal Length\": 3.3, \"Petal Width\": 1.0, \"Class\": \"Iris-versicolor\"}, {\"Sepal Length\": 6.6, \"Sepal Width\": 2.9, \"Petal Length\": 4.6, \"Petal Width\": 1.3, \"Class\": \"Iris-versicolor\"}, {\"Sepal Length\": 5.2, \"Sepal Width\": 2.7, \"Petal Length\": 3.9, \"Petal Width\": 1.4, \"Class\": \"Iris-versicolor\"}, {\"Sepal Length\": 5.0, \"Sepal Width\": 2.0, \"Petal Length\": 3.5, \"Petal Width\": 1.0, \"Class\": \"Iris-versicolor\"}, {\"Sepal Length\": 5.9, \"Sepal Width\": 3.0, \"Petal Length\": 4.2, \"Petal Width\": 1.5, \"Class\": \"Iris-versicolor\"}, {\"Sepal Length\": 6.0, \"Sepal Width\": 2.2, \"Petal Length\": 4.0, \"Petal Width\": 1.0, \"Class\": \"Iris-versicolor\"}, {\"Sepal Length\": 6.1, \"Sepal Width\": 2.9, \"Petal Length\": 4.7, \"Petal Width\": 1.4, \"Class\": \"Iris-versicolor\"}, {\"Sepal Length\": 5.6, \"Sepal Width\": 2.9, \"Petal Length\": 3.6, \"Petal Width\": 1.3, \"Class\": \"Iris-versicolor\"}, {\"Sepal Length\": 6.7, \"Sepal Width\": 3.1, \"Petal Length\": 4.4, \"Petal Width\": 1.4, \"Class\": \"Iris-versicolor\"}, {\"Sepal Length\": 5.6, \"Sepal Width\": 3.0, \"Petal Length\": 4.5, \"Petal Width\": 1.5, \"Class\": \"Iris-versicolor\"}, {\"Sepal Length\": 5.8, \"Sepal Width\": 2.7, \"Petal Length\": 4.1, \"Petal Width\": 1.0, \"Class\": \"Iris-versicolor\"}, {\"Sepal Length\": 6.2, \"Sepal Width\": 2.2, \"Petal Length\": 4.5, \"Petal Width\": 1.5, \"Class\": \"Iris-versicolor\"}, {\"Sepal Length\": 5.6, \"Sepal Width\": 2.5, \"Petal Length\": 3.9, \"Petal Width\": 1.1, \"Class\": \"Iris-versicolor\"}, {\"Sepal Length\": 5.9, \"Sepal Width\": 3.2, \"Petal Length\": 4.8, \"Petal Width\": 1.8, \"Class\": \"Iris-versicolor\"}, {\"Sepal Length\": 6.1, \"Sepal Width\": 2.8, \"Petal Length\": 4.0, \"Petal Width\": 1.3, \"Class\": \"Iris-versicolor\"}, {\"Sepal Length\": 6.3, \"Sepal Width\": 2.5, \"Petal Length\": 4.9, \"Petal Width\": 1.5, \"Class\": \"Iris-versicolor\"}, {\"Sepal Length\": 6.1, \"Sepal Width\": 2.8, \"Petal Length\": 4.7, \"Petal Width\": 1.2, \"Class\": \"Iris-versicolor\"}, {\"Sepal Length\": 6.4, \"Sepal Width\": 2.9, \"Petal Length\": 4.3, \"Petal Width\": 1.3, \"Class\": \"Iris-versicolor\"}, {\"Sepal Length\": 6.6, \"Sepal Width\": 3.0, \"Petal Length\": 4.4, \"Petal Width\": 1.4, \"Class\": \"Iris-versicolor\"}, {\"Sepal Length\": 6.8, \"Sepal Width\": 2.8, \"Petal Length\": 4.8, \"Petal Width\": 1.4, \"Class\": \"Iris-versicolor\"}, {\"Sepal Length\": 6.7, \"Sepal Width\": 3.0, \"Petal Length\": 5.0, \"Petal Width\": 1.7, \"Class\": \"Iris-versicolor\"}, {\"Sepal Length\": 6.0, \"Sepal Width\": 2.9, \"Petal Length\": 4.5, \"Petal Width\": 1.5, \"Class\": \"Iris-versicolor\"}, {\"Sepal Length\": 5.7, \"Sepal Width\": 2.6, \"Petal Length\": 3.5, \"Petal Width\": 1.0, \"Class\": \"Iris-versicolor\"}, {\"Sepal Length\": 5.5, \"Sepal Width\": 2.4, \"Petal Length\": 3.8, \"Petal Width\": 1.1, \"Class\": \"Iris-versicolor\"}, {\"Sepal Length\": 5.5, \"Sepal Width\": 2.4, \"Petal Length\": 3.7, \"Petal Width\": 1.0, \"Class\": \"Iris-versicolor\"}, {\"Sepal Length\": 5.8, \"Sepal Width\": 2.7, \"Petal Length\": 3.9, \"Petal Width\": 1.2, \"Class\": \"Iris-versicolor\"}, {\"Sepal Length\": 6.0, \"Sepal Width\": 2.7, \"Petal Length\": 5.1, \"Petal Width\": 1.6, \"Class\": \"Iris-versicolor\"}, {\"Sepal Length\": 5.4, \"Sepal Width\": 3.0, \"Petal Length\": 4.5, \"Petal Width\": 1.5, \"Class\": \"Iris-versicolor\"}, {\"Sepal Length\": 6.0, \"Sepal Width\": 3.4, \"Petal Length\": 4.5, \"Petal Width\": 1.6, \"Class\": \"Iris-versicolor\"}, {\"Sepal Length\": 6.7, \"Sepal Width\": 3.1, \"Petal Length\": 4.7, \"Petal Width\": 1.5, \"Class\": \"Iris-versicolor\"}, {\"Sepal Length\": 6.3, \"Sepal Width\": 2.3, \"Petal Length\": 4.4, \"Petal Width\": 1.3, \"Class\": \"Iris-versicolor\"}, {\"Sepal Length\": 5.6, \"Sepal Width\": 3.0, \"Petal Length\": 4.1, \"Petal Width\": 1.3, \"Class\": \"Iris-versicolor\"}, {\"Sepal Length\": 5.5, \"Sepal Width\": 2.5, \"Petal Length\": 4.0, \"Petal Width\": 1.3, \"Class\": \"Iris-versicolor\"}, {\"Sepal Length\": 5.5, \"Sepal Width\": 2.6, \"Petal Length\": 4.4, \"Petal Width\": 1.2, \"Class\": \"Iris-versicolor\"}, {\"Sepal Length\": 6.1, \"Sepal Width\": 3.0, \"Petal Length\": 4.6, \"Petal Width\": 1.4, \"Class\": \"Iris-versicolor\"}, {\"Sepal Length\": 5.8, \"Sepal Width\": 2.6, \"Petal Length\": 4.0, \"Petal Width\": 1.2, \"Class\": \"Iris-versicolor\"}, {\"Sepal Length\": 5.0, \"Sepal Width\": 2.3, \"Petal Length\": 3.3, \"Petal Width\": 1.0, \"Class\": \"Iris-versicolor\"}, {\"Sepal Length\": 5.6, \"Sepal Width\": 2.7, \"Petal Length\": 4.2, \"Petal Width\": 1.3, \"Class\": \"Iris-versicolor\"}, {\"Sepal Length\": 5.7, \"Sepal Width\": 3.0, \"Petal Length\": 4.2, \"Petal Width\": 1.2, \"Class\": \"Iris-versicolor\"}, {\"Sepal Length\": 5.7, \"Sepal Width\": 2.9, \"Petal Length\": 4.2, \"Petal Width\": 1.3, \"Class\": \"Iris-versicolor\"}, {\"Sepal Length\": 6.2, \"Sepal Width\": 2.9, \"Petal Length\": 4.3, \"Petal Width\": 1.3, \"Class\": \"Iris-versicolor\"}, {\"Sepal Length\": 5.1, \"Sepal Width\": 2.5, \"Petal Length\": 3.0, \"Petal Width\": 1.1, \"Class\": \"Iris-versicolor\"}, {\"Sepal Length\": 5.7, \"Sepal Width\": 2.8, \"Petal Length\": 4.1, \"Petal Width\": 1.3, \"Class\": \"Iris-versicolor\"}, {\"Sepal Length\": 6.3, \"Sepal Width\": 3.3, \"Petal Length\": 6.0, \"Petal Width\": 2.5, \"Class\": \"Iris-virginica\"}, {\"Sepal Length\": 5.8, \"Sepal Width\": 2.7, \"Petal Length\": 5.1, \"Petal Width\": 1.9, \"Class\": \"Iris-virginica\"}, {\"Sepal Length\": 7.1, \"Sepal Width\": 3.0, \"Petal Length\": 5.9, \"Petal Width\": 2.1, \"Class\": \"Iris-virginica\"}, {\"Sepal Length\": 6.3, \"Sepal Width\": 2.9, \"Petal Length\": 5.6, \"Petal Width\": 1.8, \"Class\": \"Iris-virginica\"}, {\"Sepal Length\": 6.5, \"Sepal Width\": 3.0, \"Petal Length\": 5.8, \"Petal Width\": 2.2, \"Class\": \"Iris-virginica\"}, {\"Sepal Length\": 7.6, \"Sepal Width\": 3.0, \"Petal Length\": 6.6, \"Petal Width\": 2.1, \"Class\": \"Iris-virginica\"}, {\"Sepal Length\": 4.9, \"Sepal Width\": 2.5, \"Petal Length\": 4.5, \"Petal Width\": 1.7, \"Class\": \"Iris-virginica\"}, {\"Sepal Length\": 7.3, \"Sepal Width\": 2.9, \"Petal Length\": 6.3, \"Petal Width\": 1.8, \"Class\": \"Iris-virginica\"}, {\"Sepal Length\": 6.7, \"Sepal Width\": 2.5, \"Petal Length\": 5.8, \"Petal Width\": 1.8, \"Class\": \"Iris-virginica\"}, {\"Sepal Length\": 7.2, \"Sepal Width\": 3.6, \"Petal Length\": 6.1, \"Petal Width\": 2.5, \"Class\": \"Iris-virginica\"}, {\"Sepal Length\": 6.5, \"Sepal Width\": 3.2, \"Petal Length\": 5.1, \"Petal Width\": 2.0, \"Class\": \"Iris-virginica\"}, {\"Sepal Length\": 6.4, \"Sepal Width\": 2.7, \"Petal Length\": 5.3, \"Petal Width\": 1.9, \"Class\": \"Iris-virginica\"}, {\"Sepal Length\": 6.8, \"Sepal Width\": 3.0, \"Petal Length\": 5.5, \"Petal Width\": 2.1, \"Class\": \"Iris-virginica\"}, {\"Sepal Length\": 5.7, \"Sepal Width\": 2.5, \"Petal Length\": 5.0, \"Petal Width\": 2.0, \"Class\": \"Iris-virginica\"}, {\"Sepal Length\": 5.8, \"Sepal Width\": 2.8, \"Petal Length\": 5.1, \"Petal Width\": 2.4, \"Class\": \"Iris-virginica\"}, {\"Sepal Length\": 6.4, \"Sepal Width\": 3.2, \"Petal Length\": 5.3, \"Petal Width\": 2.3, \"Class\": \"Iris-virginica\"}, {\"Sepal Length\": 6.5, \"Sepal Width\": 3.0, \"Petal Length\": 5.5, \"Petal Width\": 1.8, \"Class\": \"Iris-virginica\"}, {\"Sepal Length\": 7.7, \"Sepal Width\": 3.8, \"Petal Length\": 6.7, \"Petal Width\": 2.2, \"Class\": \"Iris-virginica\"}, {\"Sepal Length\": 7.7, \"Sepal Width\": 2.6, \"Petal Length\": 6.9, \"Petal Width\": 2.3, \"Class\": \"Iris-virginica\"}, {\"Sepal Length\": 6.0, \"Sepal Width\": 2.2, \"Petal Length\": 5.0, \"Petal Width\": 1.5, \"Class\": \"Iris-virginica\"}, {\"Sepal Length\": 6.9, \"Sepal Width\": 3.2, \"Petal Length\": 5.7, \"Petal Width\": 2.3, \"Class\": \"Iris-virginica\"}, {\"Sepal Length\": 5.6, \"Sepal Width\": 2.8, \"Petal Length\": 4.9, \"Petal Width\": 2.0, \"Class\": \"Iris-virginica\"}, {\"Sepal Length\": 7.7, \"Sepal Width\": 2.8, \"Petal Length\": 6.7, \"Petal Width\": 2.0, \"Class\": \"Iris-virginica\"}, {\"Sepal Length\": 6.3, \"Sepal Width\": 2.7, \"Petal Length\": 4.9, \"Petal Width\": 1.8, \"Class\": \"Iris-virginica\"}, {\"Sepal Length\": 6.7, \"Sepal Width\": 3.3, \"Petal Length\": 5.7, \"Petal Width\": 2.1, \"Class\": \"Iris-virginica\"}, {\"Sepal Length\": 7.2, \"Sepal Width\": 3.2, \"Petal Length\": 6.0, \"Petal Width\": 1.8, \"Class\": \"Iris-virginica\"}, {\"Sepal Length\": 6.2, \"Sepal Width\": 2.8, \"Petal Length\": 4.8, \"Petal Width\": 1.8, \"Class\": \"Iris-virginica\"}, {\"Sepal Length\": 6.1, \"Sepal Width\": 3.0, \"Petal Length\": 4.9, \"Petal Width\": 1.8, \"Class\": \"Iris-virginica\"}, {\"Sepal Length\": 6.4, \"Sepal Width\": 2.8, \"Petal Length\": 5.6, \"Petal Width\": 2.1, \"Class\": \"Iris-virginica\"}, {\"Sepal Length\": 7.2, \"Sepal Width\": 3.0, \"Petal Length\": 5.8, \"Petal Width\": 1.6, \"Class\": \"Iris-virginica\"}, {\"Sepal Length\": 7.4, \"Sepal Width\": 2.8, \"Petal Length\": 6.1, \"Petal Width\": 1.9, \"Class\": \"Iris-virginica\"}, {\"Sepal Length\": 7.9, \"Sepal Width\": 3.8, \"Petal Length\": 6.4, \"Petal Width\": 2.0, \"Class\": \"Iris-virginica\"}, {\"Sepal Length\": 6.4, \"Sepal Width\": 2.8, \"Petal Length\": 5.6, \"Petal Width\": 2.2, \"Class\": \"Iris-virginica\"}, {\"Sepal Length\": 6.3, \"Sepal Width\": 2.8, \"Petal Length\": 5.1, \"Petal Width\": 1.5, \"Class\": \"Iris-virginica\"}, {\"Sepal Length\": 6.1, \"Sepal Width\": 2.6, \"Petal Length\": 5.6, \"Petal Width\": 1.4, \"Class\": \"Iris-virginica\"}, {\"Sepal Length\": 7.7, \"Sepal Width\": 3.0, \"Petal Length\": 6.1, \"Petal Width\": 2.3, \"Class\": \"Iris-virginica\"}, {\"Sepal Length\": 6.3, \"Sepal Width\": 3.4, \"Petal Length\": 5.6, \"Petal Width\": 2.4, \"Class\": \"Iris-virginica\"}, {\"Sepal Length\": 6.4, \"Sepal Width\": 3.1, \"Petal Length\": 5.5, \"Petal Width\": 1.8, \"Class\": \"Iris-virginica\"}, {\"Sepal Length\": 6.0, \"Sepal Width\": 3.0, \"Petal Length\": 4.8, \"Petal Width\": 1.8, \"Class\": \"Iris-virginica\"}, {\"Sepal Length\": 6.9, \"Sepal Width\": 3.1, \"Petal Length\": 5.4, \"Petal Width\": 2.1, \"Class\": \"Iris-virginica\"}, {\"Sepal Length\": 6.7, \"Sepal Width\": 3.1, \"Petal Length\": 5.6, \"Petal Width\": 2.4, \"Class\": \"Iris-virginica\"}, {\"Sepal Length\": 6.9, \"Sepal Width\": 3.1, \"Petal Length\": 5.1, \"Petal Width\": 2.3, \"Class\": \"Iris-virginica\"}, {\"Sepal Length\": 5.8, \"Sepal Width\": 2.7, \"Petal Length\": 5.1, \"Petal Width\": 1.9, \"Class\": \"Iris-virginica\"}, {\"Sepal Length\": 6.8, \"Sepal Width\": 3.2, \"Petal Length\": 5.9, \"Petal Width\": 2.3, \"Class\": \"Iris-virginica\"}, {\"Sepal Length\": 6.7, \"Sepal Width\": 3.3, \"Petal Length\": 5.7, \"Petal Width\": 2.5, \"Class\": \"Iris-virginica\"}, {\"Sepal Length\": 6.7, \"Sepal Width\": 3.0, \"Petal Length\": 5.2, \"Petal Width\": 2.3, \"Class\": \"Iris-virginica\"}, {\"Sepal Length\": 6.3, \"Sepal Width\": 2.5, \"Petal Length\": 5.0, \"Petal Width\": 1.9, \"Class\": \"Iris-virginica\"}, {\"Sepal Length\": 6.5, \"Sepal Width\": 3.0, \"Petal Length\": 5.2, \"Petal Width\": 2.0, \"Class\": \"Iris-virginica\"}, {\"Sepal Length\": 6.2, \"Sepal Width\": 3.4, \"Petal Length\": 5.4, \"Petal Width\": 2.3, \"Class\": \"Iris-virginica\"}, {\"Sepal Length\": 5.9, \"Sepal Width\": 3.0, \"Petal Length\": 5.1, \"Petal Width\": 1.8, \"Class\": \"Iris-virginica\"}]}}, {\"mode\": \"vega-lite\"});\n",
              "</script>"
            ]
          },
          "metadata": {},
          "execution_count": 16
        }
      ]
    },
    {
      "cell_type": "code",
      "metadata": {
        "colab": {
          "base_uri": "https://localhost:8080/",
          "height": 370
        },
        "id": "XRTx6NtKqT8d",
        "outputId": "762e3840-fe37-4a21-e408-64d5fae3f7ad"
      },
      "source": [
        "import altair as alt\n",
        "\n",
        "sepal = alt.Chart(df).mark_point(size=10).encode(\n",
        "    x =alt.X(\"Sepal Length\", bin=alt.Bin(maxbins=50)),\n",
        "    y = \"Sepal Width\",\n",
        "    color=\"Class\"\n",
        ")\n",
        "\n",
        "sepal|petals\n"
      ],
      "execution_count": 18,
      "outputs": [
        {
          "output_type": "execute_result",
          "data": {
            "text/plain": [
              "alt.HConcatChart(...)"
            ],
            "text/html": [
              "\n",
              "<div id=\"altair-viz-e3680ce84ac94df8aeb366633cedb3a0\"></div>\n",
              "<script type=\"text/javascript\">\n",
              "  (function(spec, embedOpt){\n",
              "    let outputDiv = document.currentScript.previousElementSibling;\n",
              "    if (outputDiv.id !== \"altair-viz-e3680ce84ac94df8aeb366633cedb3a0\") {\n",
              "      outputDiv = document.getElementById(\"altair-viz-e3680ce84ac94df8aeb366633cedb3a0\");\n",
              "    }\n",
              "    const paths = {\n",
              "      \"vega\": \"https://cdn.jsdelivr.net/npm//vega@5?noext\",\n",
              "      \"vega-lib\": \"https://cdn.jsdelivr.net/npm//vega-lib?noext\",\n",
              "      \"vega-lite\": \"https://cdn.jsdelivr.net/npm//vega-lite@4.8.1?noext\",\n",
              "      \"vega-embed\": \"https://cdn.jsdelivr.net/npm//vega-embed@6?noext\",\n",
              "    };\n",
              "\n",
              "    function loadScript(lib) {\n",
              "      return new Promise(function(resolve, reject) {\n",
              "        var s = document.createElement('script');\n",
              "        s.src = paths[lib];\n",
              "        s.async = true;\n",
              "        s.onload = () => resolve(paths[lib]);\n",
              "        s.onerror = () => reject(`Error loading script: ${paths[lib]}`);\n",
              "        document.getElementsByTagName(\"head\")[0].appendChild(s);\n",
              "      });\n",
              "    }\n",
              "\n",
              "    function showError(err) {\n",
              "      outputDiv.innerHTML = `<div class=\"error\" style=\"color:red;\">${err}</div>`;\n",
              "      throw err;\n",
              "    }\n",
              "\n",
              "    function displayChart(vegaEmbed) {\n",
              "      vegaEmbed(outputDiv, spec, embedOpt)\n",
              "        .catch(err => showError(`Javascript Error: ${err.message}<br>This usually means there's a typo in your chart specification. See the javascript console for the full traceback.`));\n",
              "    }\n",
              "\n",
              "    if(typeof define === \"function\" && define.amd) {\n",
              "      requirejs.config({paths});\n",
              "      require([\"vega-embed\"], displayChart, err => showError(`Error loading script: ${err.message}`));\n",
              "    } else if (typeof vegaEmbed === \"function\") {\n",
              "      displayChart(vegaEmbed);\n",
              "    } else {\n",
              "      loadScript(\"vega\")\n",
              "        .then(() => loadScript(\"vega-lite\"))\n",
              "        .then(() => loadScript(\"vega-embed\"))\n",
              "        .catch(showError)\n",
              "        .then(() => displayChart(vegaEmbed));\n",
              "    }\n",
              "  })({\"config\": {\"view\": {\"continuousWidth\": 400, \"continuousHeight\": 300}}, \"hconcat\": [{\"mark\": {\"type\": \"point\", \"size\": 10}, \"encoding\": {\"color\": {\"type\": \"nominal\", \"field\": \"Class\"}, \"x\": {\"type\": \"quantitative\", \"bin\": {\"maxbins\": 50}, \"field\": \"Sepal Length\"}, \"y\": {\"type\": \"quantitative\", \"field\": \"Sepal Width\"}}}, {\"mark\": {\"type\": \"point\", \"size\": 10}, \"encoding\": {\"color\": {\"type\": \"nominal\", \"field\": \"Class\"}, \"x\": {\"type\": \"quantitative\", \"bin\": {\"maxbins\": 50}, \"field\": \"Petal Length\"}, \"y\": {\"type\": \"quantitative\", \"field\": \"Petal Width\"}}}], \"data\": {\"name\": \"data-ac6934c2f4458f3f04cac25a1411fd13\"}, \"$schema\": \"https://vega.github.io/schema/vega-lite/v4.8.1.json\", \"datasets\": {\"data-ac6934c2f4458f3f04cac25a1411fd13\": [{\"Sepal Length\": 5.1, \"Sepal Width\": 3.5, \"Petal Length\": 1.4, \"Petal Width\": 0.2, \"Class\": \"Iris-setosa\"}, {\"Sepal Length\": 4.9, \"Sepal Width\": 3.0, \"Petal Length\": 1.4, \"Petal Width\": 0.2, \"Class\": \"Iris-setosa\"}, {\"Sepal Length\": 4.7, \"Sepal Width\": 3.2, \"Petal Length\": 1.3, \"Petal Width\": 0.2, \"Class\": \"Iris-setosa\"}, {\"Sepal Length\": 4.6, \"Sepal Width\": 3.1, \"Petal Length\": 1.5, \"Petal Width\": 0.2, \"Class\": \"Iris-setosa\"}, {\"Sepal Length\": 5.0, \"Sepal Width\": 3.6, \"Petal Length\": 1.4, \"Petal Width\": 0.2, \"Class\": \"Iris-setosa\"}, {\"Sepal Length\": 5.4, \"Sepal Width\": 3.9, \"Petal Length\": 1.7, \"Petal Width\": 0.4, \"Class\": \"Iris-setosa\"}, {\"Sepal Length\": 4.6, \"Sepal Width\": 3.4, \"Petal Length\": 1.4, \"Petal Width\": 0.3, \"Class\": \"Iris-setosa\"}, {\"Sepal Length\": 5.0, \"Sepal Width\": 3.4, \"Petal Length\": 1.5, \"Petal Width\": 0.2, \"Class\": \"Iris-setosa\"}, {\"Sepal Length\": 4.4, \"Sepal Width\": 2.9, \"Petal Length\": 1.4, \"Petal Width\": 0.2, \"Class\": \"Iris-setosa\"}, {\"Sepal Length\": 4.9, \"Sepal Width\": 3.1, \"Petal Length\": 1.5, \"Petal Width\": 0.1, \"Class\": \"Iris-setosa\"}, {\"Sepal Length\": 5.4, \"Sepal Width\": 3.7, \"Petal Length\": 1.5, \"Petal Width\": 0.2, \"Class\": \"Iris-setosa\"}, {\"Sepal Length\": 4.8, \"Sepal Width\": 3.4, \"Petal Length\": 1.6, \"Petal Width\": 0.2, \"Class\": \"Iris-setosa\"}, {\"Sepal Length\": 4.8, \"Sepal Width\": 3.0, \"Petal Length\": 1.4, \"Petal Width\": 0.1, \"Class\": \"Iris-setosa\"}, {\"Sepal Length\": 4.3, \"Sepal Width\": 3.0, \"Petal Length\": 1.1, \"Petal Width\": 0.1, \"Class\": \"Iris-setosa\"}, {\"Sepal Length\": 5.8, \"Sepal Width\": 4.0, \"Petal Length\": 1.2, \"Petal Width\": 0.2, \"Class\": \"Iris-setosa\"}, {\"Sepal Length\": 5.7, \"Sepal Width\": 4.4, \"Petal Length\": 1.5, \"Petal Width\": 0.4, \"Class\": \"Iris-setosa\"}, {\"Sepal Length\": 5.4, \"Sepal Width\": 3.9, \"Petal Length\": 1.3, \"Petal Width\": 0.4, \"Class\": \"Iris-setosa\"}, {\"Sepal Length\": 5.1, \"Sepal Width\": 3.5, \"Petal Length\": 1.4, \"Petal Width\": 0.3, \"Class\": \"Iris-setosa\"}, {\"Sepal Length\": 5.7, \"Sepal Width\": 3.8, \"Petal Length\": 1.7, \"Petal Width\": 0.3, \"Class\": \"Iris-setosa\"}, {\"Sepal Length\": 5.1, \"Sepal Width\": 3.8, \"Petal Length\": 1.5, \"Petal Width\": 0.3, \"Class\": \"Iris-setosa\"}, {\"Sepal Length\": 5.4, \"Sepal Width\": 3.4, \"Petal Length\": 1.7, \"Petal Width\": 0.2, \"Class\": \"Iris-setosa\"}, {\"Sepal Length\": 5.1, \"Sepal Width\": 3.7, \"Petal Length\": 1.5, \"Petal Width\": 0.4, \"Class\": \"Iris-setosa\"}, {\"Sepal Length\": 4.6, \"Sepal Width\": 3.6, \"Petal Length\": 1.0, \"Petal Width\": 0.2, \"Class\": \"Iris-setosa\"}, {\"Sepal Length\": 5.1, \"Sepal Width\": 3.3, \"Petal Length\": 1.7, \"Petal Width\": 0.5, \"Class\": \"Iris-setosa\"}, {\"Sepal Length\": 4.8, \"Sepal Width\": 3.4, \"Petal Length\": 1.9, \"Petal Width\": 0.2, \"Class\": \"Iris-setosa\"}, {\"Sepal Length\": 5.0, \"Sepal Width\": 3.0, \"Petal Length\": 1.6, \"Petal Width\": 0.2, \"Class\": \"Iris-setosa\"}, {\"Sepal Length\": 5.0, \"Sepal Width\": 3.4, \"Petal Length\": 1.6, \"Petal Width\": 0.4, \"Class\": \"Iris-setosa\"}, {\"Sepal Length\": 5.2, \"Sepal Width\": 3.5, \"Petal Length\": 1.5, \"Petal Width\": 0.2, \"Class\": \"Iris-setosa\"}, {\"Sepal Length\": 5.2, \"Sepal Width\": 3.4, \"Petal Length\": 1.4, \"Petal Width\": 0.2, \"Class\": \"Iris-setosa\"}, {\"Sepal Length\": 4.7, \"Sepal Width\": 3.2, \"Petal Length\": 1.6, \"Petal Width\": 0.2, \"Class\": \"Iris-setosa\"}, {\"Sepal Length\": 4.8, \"Sepal Width\": 3.1, \"Petal Length\": 1.6, \"Petal Width\": 0.2, \"Class\": \"Iris-setosa\"}, {\"Sepal Length\": 5.4, \"Sepal Width\": 3.4, \"Petal Length\": 1.5, \"Petal Width\": 0.4, \"Class\": \"Iris-setosa\"}, {\"Sepal Length\": 5.2, \"Sepal Width\": 4.1, \"Petal Length\": 1.5, \"Petal Width\": 0.1, \"Class\": \"Iris-setosa\"}, {\"Sepal Length\": 5.5, \"Sepal Width\": 4.2, \"Petal Length\": 1.4, \"Petal Width\": 0.2, \"Class\": \"Iris-setosa\"}, {\"Sepal Length\": 4.9, \"Sepal Width\": 3.1, \"Petal Length\": 1.5, \"Petal Width\": 0.1, \"Class\": \"Iris-setosa\"}, {\"Sepal Length\": 5.0, \"Sepal Width\": 3.2, \"Petal Length\": 1.2, \"Petal Width\": 0.2, \"Class\": \"Iris-setosa\"}, {\"Sepal Length\": 5.5, \"Sepal Width\": 3.5, \"Petal Length\": 1.3, \"Petal Width\": 0.2, \"Class\": \"Iris-setosa\"}, {\"Sepal Length\": 4.9, \"Sepal Width\": 3.1, \"Petal Length\": 1.5, \"Petal Width\": 0.1, \"Class\": \"Iris-setosa\"}, {\"Sepal Length\": 4.4, \"Sepal Width\": 3.0, \"Petal Length\": 1.3, \"Petal Width\": 0.2, \"Class\": \"Iris-setosa\"}, {\"Sepal Length\": 5.1, \"Sepal Width\": 3.4, \"Petal Length\": 1.5, \"Petal Width\": 0.2, \"Class\": \"Iris-setosa\"}, {\"Sepal Length\": 5.0, \"Sepal Width\": 3.5, \"Petal Length\": 1.3, \"Petal Width\": 0.3, \"Class\": \"Iris-setosa\"}, {\"Sepal Length\": 4.5, \"Sepal Width\": 2.3, \"Petal Length\": 1.3, \"Petal Width\": 0.3, \"Class\": \"Iris-setosa\"}, {\"Sepal Length\": 4.4, \"Sepal Width\": 3.2, \"Petal Length\": 1.3, \"Petal Width\": 0.2, \"Class\": \"Iris-setosa\"}, {\"Sepal Length\": 5.0, \"Sepal Width\": 3.5, \"Petal Length\": 1.6, \"Petal Width\": 0.6, \"Class\": \"Iris-setosa\"}, {\"Sepal Length\": 5.1, \"Sepal Width\": 3.8, \"Petal Length\": 1.9, \"Petal Width\": 0.4, \"Class\": \"Iris-setosa\"}, {\"Sepal Length\": 4.8, \"Sepal Width\": 3.0, \"Petal Length\": 1.4, \"Petal Width\": 0.3, \"Class\": \"Iris-setosa\"}, {\"Sepal Length\": 5.1, \"Sepal Width\": 3.8, \"Petal Length\": 1.6, \"Petal Width\": 0.2, \"Class\": \"Iris-setosa\"}, {\"Sepal Length\": 4.6, \"Sepal Width\": 3.2, \"Petal Length\": 1.4, \"Petal Width\": 0.2, \"Class\": \"Iris-setosa\"}, {\"Sepal Length\": 5.3, \"Sepal Width\": 3.7, \"Petal Length\": 1.5, \"Petal Width\": 0.2, \"Class\": \"Iris-setosa\"}, {\"Sepal Length\": 5.0, \"Sepal Width\": 3.3, \"Petal Length\": 1.4, \"Petal Width\": 0.2, \"Class\": \"Iris-setosa\"}, {\"Sepal Length\": 7.0, \"Sepal Width\": 3.2, \"Petal Length\": 4.7, \"Petal Width\": 1.4, \"Class\": \"Iris-versicolor\"}, {\"Sepal Length\": 6.4, \"Sepal Width\": 3.2, \"Petal Length\": 4.5, \"Petal Width\": 1.5, \"Class\": \"Iris-versicolor\"}, {\"Sepal Length\": 6.9, \"Sepal Width\": 3.1, \"Petal Length\": 4.9, \"Petal Width\": 1.5, \"Class\": \"Iris-versicolor\"}, {\"Sepal Length\": 5.5, \"Sepal Width\": 2.3, \"Petal Length\": 4.0, \"Petal Width\": 1.3, \"Class\": \"Iris-versicolor\"}, {\"Sepal Length\": 6.5, \"Sepal Width\": 2.8, \"Petal Length\": 4.6, \"Petal Width\": 1.5, \"Class\": \"Iris-versicolor\"}, {\"Sepal Length\": 5.7, \"Sepal Width\": 2.8, \"Petal Length\": 4.5, \"Petal Width\": 1.3, \"Class\": \"Iris-versicolor\"}, {\"Sepal Length\": 6.3, \"Sepal Width\": 3.3, \"Petal Length\": 4.7, \"Petal Width\": 1.6, \"Class\": \"Iris-versicolor\"}, {\"Sepal Length\": 4.9, \"Sepal Width\": 2.4, \"Petal Length\": 3.3, \"Petal Width\": 1.0, \"Class\": \"Iris-versicolor\"}, {\"Sepal Length\": 6.6, \"Sepal Width\": 2.9, \"Petal Length\": 4.6, \"Petal Width\": 1.3, \"Class\": \"Iris-versicolor\"}, {\"Sepal Length\": 5.2, \"Sepal Width\": 2.7, \"Petal Length\": 3.9, \"Petal Width\": 1.4, \"Class\": \"Iris-versicolor\"}, {\"Sepal Length\": 5.0, \"Sepal Width\": 2.0, \"Petal Length\": 3.5, \"Petal Width\": 1.0, \"Class\": \"Iris-versicolor\"}, {\"Sepal Length\": 5.9, \"Sepal Width\": 3.0, \"Petal Length\": 4.2, \"Petal Width\": 1.5, \"Class\": \"Iris-versicolor\"}, {\"Sepal Length\": 6.0, \"Sepal Width\": 2.2, \"Petal Length\": 4.0, \"Petal Width\": 1.0, \"Class\": \"Iris-versicolor\"}, {\"Sepal Length\": 6.1, \"Sepal Width\": 2.9, \"Petal Length\": 4.7, \"Petal Width\": 1.4, \"Class\": \"Iris-versicolor\"}, {\"Sepal Length\": 5.6, \"Sepal Width\": 2.9, \"Petal Length\": 3.6, \"Petal Width\": 1.3, \"Class\": \"Iris-versicolor\"}, {\"Sepal Length\": 6.7, \"Sepal Width\": 3.1, \"Petal Length\": 4.4, \"Petal Width\": 1.4, \"Class\": \"Iris-versicolor\"}, {\"Sepal Length\": 5.6, \"Sepal Width\": 3.0, \"Petal Length\": 4.5, \"Petal Width\": 1.5, \"Class\": \"Iris-versicolor\"}, {\"Sepal Length\": 5.8, \"Sepal Width\": 2.7, \"Petal Length\": 4.1, \"Petal Width\": 1.0, \"Class\": \"Iris-versicolor\"}, {\"Sepal Length\": 6.2, \"Sepal Width\": 2.2, \"Petal Length\": 4.5, \"Petal Width\": 1.5, \"Class\": \"Iris-versicolor\"}, {\"Sepal Length\": 5.6, \"Sepal Width\": 2.5, \"Petal Length\": 3.9, \"Petal Width\": 1.1, \"Class\": \"Iris-versicolor\"}, {\"Sepal Length\": 5.9, \"Sepal Width\": 3.2, \"Petal Length\": 4.8, \"Petal Width\": 1.8, \"Class\": \"Iris-versicolor\"}, {\"Sepal Length\": 6.1, \"Sepal Width\": 2.8, \"Petal Length\": 4.0, \"Petal Width\": 1.3, \"Class\": \"Iris-versicolor\"}, {\"Sepal Length\": 6.3, \"Sepal Width\": 2.5, \"Petal Length\": 4.9, \"Petal Width\": 1.5, \"Class\": \"Iris-versicolor\"}, {\"Sepal Length\": 6.1, \"Sepal Width\": 2.8, \"Petal Length\": 4.7, \"Petal Width\": 1.2, \"Class\": \"Iris-versicolor\"}, {\"Sepal Length\": 6.4, \"Sepal Width\": 2.9, \"Petal Length\": 4.3, \"Petal Width\": 1.3, \"Class\": \"Iris-versicolor\"}, {\"Sepal Length\": 6.6, \"Sepal Width\": 3.0, \"Petal Length\": 4.4, \"Petal Width\": 1.4, \"Class\": \"Iris-versicolor\"}, {\"Sepal Length\": 6.8, \"Sepal Width\": 2.8, \"Petal Length\": 4.8, \"Petal Width\": 1.4, \"Class\": \"Iris-versicolor\"}, {\"Sepal Length\": 6.7, \"Sepal Width\": 3.0, \"Petal Length\": 5.0, \"Petal Width\": 1.7, \"Class\": \"Iris-versicolor\"}, {\"Sepal Length\": 6.0, \"Sepal Width\": 2.9, \"Petal Length\": 4.5, \"Petal Width\": 1.5, \"Class\": \"Iris-versicolor\"}, {\"Sepal Length\": 5.7, \"Sepal Width\": 2.6, \"Petal Length\": 3.5, \"Petal Width\": 1.0, \"Class\": \"Iris-versicolor\"}, {\"Sepal Length\": 5.5, \"Sepal Width\": 2.4, \"Petal Length\": 3.8, \"Petal Width\": 1.1, \"Class\": \"Iris-versicolor\"}, {\"Sepal Length\": 5.5, \"Sepal Width\": 2.4, \"Petal Length\": 3.7, \"Petal Width\": 1.0, \"Class\": \"Iris-versicolor\"}, {\"Sepal Length\": 5.8, \"Sepal Width\": 2.7, \"Petal Length\": 3.9, \"Petal Width\": 1.2, \"Class\": \"Iris-versicolor\"}, {\"Sepal Length\": 6.0, \"Sepal Width\": 2.7, \"Petal Length\": 5.1, \"Petal Width\": 1.6, \"Class\": \"Iris-versicolor\"}, {\"Sepal Length\": 5.4, \"Sepal Width\": 3.0, \"Petal Length\": 4.5, \"Petal Width\": 1.5, \"Class\": \"Iris-versicolor\"}, {\"Sepal Length\": 6.0, \"Sepal Width\": 3.4, \"Petal Length\": 4.5, \"Petal Width\": 1.6, \"Class\": \"Iris-versicolor\"}, {\"Sepal Length\": 6.7, \"Sepal Width\": 3.1, \"Petal Length\": 4.7, \"Petal Width\": 1.5, \"Class\": \"Iris-versicolor\"}, {\"Sepal Length\": 6.3, \"Sepal Width\": 2.3, \"Petal Length\": 4.4, \"Petal Width\": 1.3, \"Class\": \"Iris-versicolor\"}, {\"Sepal Length\": 5.6, \"Sepal Width\": 3.0, \"Petal Length\": 4.1, \"Petal Width\": 1.3, \"Class\": \"Iris-versicolor\"}, {\"Sepal Length\": 5.5, \"Sepal Width\": 2.5, \"Petal Length\": 4.0, \"Petal Width\": 1.3, \"Class\": \"Iris-versicolor\"}, {\"Sepal Length\": 5.5, \"Sepal Width\": 2.6, \"Petal Length\": 4.4, \"Petal Width\": 1.2, \"Class\": \"Iris-versicolor\"}, {\"Sepal Length\": 6.1, \"Sepal Width\": 3.0, \"Petal Length\": 4.6, \"Petal Width\": 1.4, \"Class\": \"Iris-versicolor\"}, {\"Sepal Length\": 5.8, \"Sepal Width\": 2.6, \"Petal Length\": 4.0, \"Petal Width\": 1.2, \"Class\": \"Iris-versicolor\"}, {\"Sepal Length\": 5.0, \"Sepal Width\": 2.3, \"Petal Length\": 3.3, \"Petal Width\": 1.0, \"Class\": \"Iris-versicolor\"}, {\"Sepal Length\": 5.6, \"Sepal Width\": 2.7, \"Petal Length\": 4.2, \"Petal Width\": 1.3, \"Class\": \"Iris-versicolor\"}, {\"Sepal Length\": 5.7, \"Sepal Width\": 3.0, \"Petal Length\": 4.2, \"Petal Width\": 1.2, \"Class\": \"Iris-versicolor\"}, {\"Sepal Length\": 5.7, \"Sepal Width\": 2.9, \"Petal Length\": 4.2, \"Petal Width\": 1.3, \"Class\": \"Iris-versicolor\"}, {\"Sepal Length\": 6.2, \"Sepal Width\": 2.9, \"Petal Length\": 4.3, \"Petal Width\": 1.3, \"Class\": \"Iris-versicolor\"}, {\"Sepal Length\": 5.1, \"Sepal Width\": 2.5, \"Petal Length\": 3.0, \"Petal Width\": 1.1, \"Class\": \"Iris-versicolor\"}, {\"Sepal Length\": 5.7, \"Sepal Width\": 2.8, \"Petal Length\": 4.1, \"Petal Width\": 1.3, \"Class\": \"Iris-versicolor\"}, {\"Sepal Length\": 6.3, \"Sepal Width\": 3.3, \"Petal Length\": 6.0, \"Petal Width\": 2.5, \"Class\": \"Iris-virginica\"}, {\"Sepal Length\": 5.8, \"Sepal Width\": 2.7, \"Petal Length\": 5.1, \"Petal Width\": 1.9, \"Class\": \"Iris-virginica\"}, {\"Sepal Length\": 7.1, \"Sepal Width\": 3.0, \"Petal Length\": 5.9, \"Petal Width\": 2.1, \"Class\": \"Iris-virginica\"}, {\"Sepal Length\": 6.3, \"Sepal Width\": 2.9, \"Petal Length\": 5.6, \"Petal Width\": 1.8, \"Class\": \"Iris-virginica\"}, {\"Sepal Length\": 6.5, \"Sepal Width\": 3.0, \"Petal Length\": 5.8, \"Petal Width\": 2.2, \"Class\": \"Iris-virginica\"}, {\"Sepal Length\": 7.6, \"Sepal Width\": 3.0, \"Petal Length\": 6.6, \"Petal Width\": 2.1, \"Class\": \"Iris-virginica\"}, {\"Sepal Length\": 4.9, \"Sepal Width\": 2.5, \"Petal Length\": 4.5, \"Petal Width\": 1.7, \"Class\": \"Iris-virginica\"}, {\"Sepal Length\": 7.3, \"Sepal Width\": 2.9, \"Petal Length\": 6.3, \"Petal Width\": 1.8, \"Class\": \"Iris-virginica\"}, {\"Sepal Length\": 6.7, \"Sepal Width\": 2.5, \"Petal Length\": 5.8, \"Petal Width\": 1.8, \"Class\": \"Iris-virginica\"}, {\"Sepal Length\": 7.2, \"Sepal Width\": 3.6, \"Petal Length\": 6.1, \"Petal Width\": 2.5, \"Class\": \"Iris-virginica\"}, {\"Sepal Length\": 6.5, \"Sepal Width\": 3.2, \"Petal Length\": 5.1, \"Petal Width\": 2.0, \"Class\": \"Iris-virginica\"}, {\"Sepal Length\": 6.4, \"Sepal Width\": 2.7, \"Petal Length\": 5.3, \"Petal Width\": 1.9, \"Class\": \"Iris-virginica\"}, {\"Sepal Length\": 6.8, \"Sepal Width\": 3.0, \"Petal Length\": 5.5, \"Petal Width\": 2.1, \"Class\": \"Iris-virginica\"}, {\"Sepal Length\": 5.7, \"Sepal Width\": 2.5, \"Petal Length\": 5.0, \"Petal Width\": 2.0, \"Class\": \"Iris-virginica\"}, {\"Sepal Length\": 5.8, \"Sepal Width\": 2.8, \"Petal Length\": 5.1, \"Petal Width\": 2.4, \"Class\": \"Iris-virginica\"}, {\"Sepal Length\": 6.4, \"Sepal Width\": 3.2, \"Petal Length\": 5.3, \"Petal Width\": 2.3, \"Class\": \"Iris-virginica\"}, {\"Sepal Length\": 6.5, \"Sepal Width\": 3.0, \"Petal Length\": 5.5, \"Petal Width\": 1.8, \"Class\": \"Iris-virginica\"}, {\"Sepal Length\": 7.7, \"Sepal Width\": 3.8, \"Petal Length\": 6.7, \"Petal Width\": 2.2, \"Class\": \"Iris-virginica\"}, {\"Sepal Length\": 7.7, \"Sepal Width\": 2.6, \"Petal Length\": 6.9, \"Petal Width\": 2.3, \"Class\": \"Iris-virginica\"}, {\"Sepal Length\": 6.0, \"Sepal Width\": 2.2, \"Petal Length\": 5.0, \"Petal Width\": 1.5, \"Class\": \"Iris-virginica\"}, {\"Sepal Length\": 6.9, \"Sepal Width\": 3.2, \"Petal Length\": 5.7, \"Petal Width\": 2.3, \"Class\": \"Iris-virginica\"}, {\"Sepal Length\": 5.6, \"Sepal Width\": 2.8, \"Petal Length\": 4.9, \"Petal Width\": 2.0, \"Class\": \"Iris-virginica\"}, {\"Sepal Length\": 7.7, \"Sepal Width\": 2.8, \"Petal Length\": 6.7, \"Petal Width\": 2.0, \"Class\": \"Iris-virginica\"}, {\"Sepal Length\": 6.3, \"Sepal Width\": 2.7, \"Petal Length\": 4.9, \"Petal Width\": 1.8, \"Class\": \"Iris-virginica\"}, {\"Sepal Length\": 6.7, \"Sepal Width\": 3.3, \"Petal Length\": 5.7, \"Petal Width\": 2.1, \"Class\": \"Iris-virginica\"}, {\"Sepal Length\": 7.2, \"Sepal Width\": 3.2, \"Petal Length\": 6.0, \"Petal Width\": 1.8, \"Class\": \"Iris-virginica\"}, {\"Sepal Length\": 6.2, \"Sepal Width\": 2.8, \"Petal Length\": 4.8, \"Petal Width\": 1.8, \"Class\": \"Iris-virginica\"}, {\"Sepal Length\": 6.1, \"Sepal Width\": 3.0, \"Petal Length\": 4.9, \"Petal Width\": 1.8, \"Class\": \"Iris-virginica\"}, {\"Sepal Length\": 6.4, \"Sepal Width\": 2.8, \"Petal Length\": 5.6, \"Petal Width\": 2.1, \"Class\": \"Iris-virginica\"}, {\"Sepal Length\": 7.2, \"Sepal Width\": 3.0, \"Petal Length\": 5.8, \"Petal Width\": 1.6, \"Class\": \"Iris-virginica\"}, {\"Sepal Length\": 7.4, \"Sepal Width\": 2.8, \"Petal Length\": 6.1, \"Petal Width\": 1.9, \"Class\": \"Iris-virginica\"}, {\"Sepal Length\": 7.9, \"Sepal Width\": 3.8, \"Petal Length\": 6.4, \"Petal Width\": 2.0, \"Class\": \"Iris-virginica\"}, {\"Sepal Length\": 6.4, \"Sepal Width\": 2.8, \"Petal Length\": 5.6, \"Petal Width\": 2.2, \"Class\": \"Iris-virginica\"}, {\"Sepal Length\": 6.3, \"Sepal Width\": 2.8, \"Petal Length\": 5.1, \"Petal Width\": 1.5, \"Class\": \"Iris-virginica\"}, {\"Sepal Length\": 6.1, \"Sepal Width\": 2.6, \"Petal Length\": 5.6, \"Petal Width\": 1.4, \"Class\": \"Iris-virginica\"}, {\"Sepal Length\": 7.7, \"Sepal Width\": 3.0, \"Petal Length\": 6.1, \"Petal Width\": 2.3, \"Class\": \"Iris-virginica\"}, {\"Sepal Length\": 6.3, \"Sepal Width\": 3.4, \"Petal Length\": 5.6, \"Petal Width\": 2.4, \"Class\": \"Iris-virginica\"}, {\"Sepal Length\": 6.4, \"Sepal Width\": 3.1, \"Petal Length\": 5.5, \"Petal Width\": 1.8, \"Class\": \"Iris-virginica\"}, {\"Sepal Length\": 6.0, \"Sepal Width\": 3.0, \"Petal Length\": 4.8, \"Petal Width\": 1.8, \"Class\": \"Iris-virginica\"}, {\"Sepal Length\": 6.9, \"Sepal Width\": 3.1, \"Petal Length\": 5.4, \"Petal Width\": 2.1, \"Class\": \"Iris-virginica\"}, {\"Sepal Length\": 6.7, \"Sepal Width\": 3.1, \"Petal Length\": 5.6, \"Petal Width\": 2.4, \"Class\": \"Iris-virginica\"}, {\"Sepal Length\": 6.9, \"Sepal Width\": 3.1, \"Petal Length\": 5.1, \"Petal Width\": 2.3, \"Class\": \"Iris-virginica\"}, {\"Sepal Length\": 5.8, \"Sepal Width\": 2.7, \"Petal Length\": 5.1, \"Petal Width\": 1.9, \"Class\": \"Iris-virginica\"}, {\"Sepal Length\": 6.8, \"Sepal Width\": 3.2, \"Petal Length\": 5.9, \"Petal Width\": 2.3, \"Class\": \"Iris-virginica\"}, {\"Sepal Length\": 6.7, \"Sepal Width\": 3.3, \"Petal Length\": 5.7, \"Petal Width\": 2.5, \"Class\": \"Iris-virginica\"}, {\"Sepal Length\": 6.7, \"Sepal Width\": 3.0, \"Petal Length\": 5.2, \"Petal Width\": 2.3, \"Class\": \"Iris-virginica\"}, {\"Sepal Length\": 6.3, \"Sepal Width\": 2.5, \"Petal Length\": 5.0, \"Petal Width\": 1.9, \"Class\": \"Iris-virginica\"}, {\"Sepal Length\": 6.5, \"Sepal Width\": 3.0, \"Petal Length\": 5.2, \"Petal Width\": 2.0, \"Class\": \"Iris-virginica\"}, {\"Sepal Length\": 6.2, \"Sepal Width\": 3.4, \"Petal Length\": 5.4, \"Petal Width\": 2.3, \"Class\": \"Iris-virginica\"}, {\"Sepal Length\": 5.9, \"Sepal Width\": 3.0, \"Petal Length\": 5.1, \"Petal Width\": 1.8, \"Class\": \"Iris-virginica\"}]}}, {\"mode\": \"vega-lite\"});\n",
              "</script>"
            ]
          },
          "metadata": {},
          "execution_count": 18
        }
      ]
    },
    {
      "cell_type": "markdown",
      "metadata": {
        "id": "YvUtvfLM-u6b"
      },
      "source": [
        "I have chosen a scatter graph, as it gives a clear visualisation of the relationship between petal length and width alongside sepal length and width. In this data visualisation, we can see for Iris-serota as the sepal length increases, so does the width, but we can see compared to the other classes of petals the petal length isn't as high. Although we can see a clear positive correlation between petal length and petal width for the irises.\n",
        "\n"
      ]
    }
  ]
}