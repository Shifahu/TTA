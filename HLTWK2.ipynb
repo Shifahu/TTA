{
  "nbformat": 4,
  "nbformat_minor": 0,
  "metadata": {
    "colab": {
      "name": "HLTWK2.ipynb",
      "provenance": [],
      "mount_file_id": "1eSfzVovXsyPoN_2-78ssw8KH2iGqT9WA",
      "authorship_tag": "ABX9TyPjBOx9vtJzSGB1KRF2nYQ5",
      "include_colab_link": true
    },
    "kernelspec": {
      "name": "python3",
      "display_name": "Python 3"
    },
    "language_info": {
      "name": "python"
    }
  },
  "cells": [
    {
      "cell_type": "markdown",
      "metadata": {
        "id": "view-in-github",
        "colab_type": "text"
      },
      "source": [
        "<a href=\"https://colab.research.google.com/github/Shifahu/TTA/blob/main/HLTWK2.ipynb\" target=\"_parent\"><img src=\"https://colab.research.google.com/assets/colab-badge.svg\" alt=\"Open In Colab\"/></a>"
      ]
    },
    {
      "cell_type": "code",
      "metadata": {
        "colab": {
          "base_uri": "https://localhost:8080/"
        },
        "id": "-qtDIUb7AQss",
        "outputId": "af3ad937-b9c7-4766-ffb4-57ff93ed7d78"
      },
      "source": [
        "import numpy as np\n",
        "\n",
        "arr = np.arange(10)\n",
        "print(arr)"
      ],
      "execution_count": null,
      "outputs": [
        {
          "output_type": "stream",
          "name": "stdout",
          "text": [
            "[0 1 2 3 4 5 6 7 8 9]\n"
          ]
        }
      ]
    },
    {
      "cell_type": "code",
      "metadata": {
        "colab": {
          "base_uri": "https://localhost:8080/"
        },
        "id": "tsbh9h7gtfoq",
        "outputId": "eb6b7ec5-5d9c-4664-ce74-54cdcc02d767"
      },
      "source": [
        "array = np.array([\"true\", \"true\", \"true\",\"true\", \"true\", \"true\",\"true\", \"true\", \"true\"])\n",
        "new_array = array.reshape(3,3)\n",
        "\n",
        "print(new_array)"
      ],
      "execution_count": null,
      "outputs": [
        {
          "output_type": "stream",
          "name": "stdout",
          "text": [
            "[['true' 'true' 'true']\n",
            " ['true' 'true' 'true']\n",
            " ['true' 'true' 'true']]\n"
          ]
        }
      ]
    },
    {
      "cell_type": "code",
      "metadata": {
        "colab": {
          "base_uri": "https://localhost:8080/"
        },
        "id": "sw9AM1FBuNNB",
        "outputId": "7c15540a-9663-4102-8a39-d2cc8a5234b7"
      },
      "source": [
        "import numpy as np\n",
        "\n",
        "arr = np.arange(1,10,2)\n",
        "print(arr)"
      ],
      "execution_count": null,
      "outputs": [
        {
          "output_type": "stream",
          "name": "stdout",
          "text": [
            "[1 3 5 7 9]\n"
          ]
        }
      ]
    },
    {
      "cell_type": "code",
      "metadata": {
        "colab": {
          "base_uri": "https://localhost:8080/"
        },
        "id": "XQ7DFEaPHrs7",
        "outputId": "1c189254-d768-4aa4-8985-9ec7e662fd93"
      },
      "source": [
        "import numpy as np \n",
        " \n",
        "a = np.array([ 1,  2,  3,  4,  5,  6,  7,  8,  9, 10]) \n",
        " \n",
        "odd_values = (a%2 == 1) \n",
        "a[odd_values] = -1 \n",
        "print(a)"
      ],
      "execution_count": null,
      "outputs": [
        {
          "output_type": "stream",
          "name": "stdout",
          "text": [
            "[-1  2 -1  4 -1  6 -1  8 -1 10]\n"
          ]
        }
      ]
    },
    {
      "cell_type": "code",
      "metadata": {
        "colab": {
          "base_uri": "https://localhost:8080/"
        },
        "id": "alHCU5yhytyF",
        "outputId": "0cc9720e-5242-4868-df81-0edf2d51cd2f"
      },
      "source": [
        "import numpy as np\n",
        "arr = (np.arange(8)).reshape(2,4)\n",
        "\n",
        "print(arr)"
      ],
      "execution_count": null,
      "outputs": [
        {
          "output_type": "stream",
          "name": "stdout",
          "text": [
            "[[0 1 2 3]\n",
            " [4 5 6 7]]\n"
          ]
        }
      ]
    },
    {
      "cell_type": "code",
      "metadata": {
        "colab": {
          "base_uri": "https://localhost:8080/",
          "height": 266
        },
        "id": "yYj1FYxo3o_a",
        "outputId": "94da1b87-f9bf-4e60-b57c-9a3f39251ffe"
      },
      "source": [
        "import numpy as np\n",
        "\n",
        "a = np.arange(1,9).reshape(2,4)\n",
        "b = np.arange(9,17).reshape(2,4)\n",
        "c = np.dot(a,b)\n",
        "#print(c)\n",
        "\n",
        "\n",
        "e = np.sum(c,axis = 0)\n",
        "print(e)\n"
      ],
      "execution_count": 3,
      "outputs": [
        {
          "output_type": "error",
          "ename": "ValueError",
          "evalue": "ignored",
          "traceback": [
            "\u001b[0;31m---------------------------------------------------------------------------\u001b[0m",
            "\u001b[0;31mValueError\u001b[0m                                Traceback (most recent call last)",
            "\u001b[0;32m<ipython-input-3-e1df3c774d4f>\u001b[0m in \u001b[0;36m<module>\u001b[0;34m()\u001b[0m\n\u001b[1;32m      3\u001b[0m \u001b[0ma\u001b[0m \u001b[0;34m=\u001b[0m \u001b[0mnp\u001b[0m\u001b[0;34m.\u001b[0m\u001b[0marange\u001b[0m\u001b[0;34m(\u001b[0m\u001b[0;36m1\u001b[0m\u001b[0;34m,\u001b[0m\u001b[0;36m9\u001b[0m\u001b[0;34m)\u001b[0m\u001b[0;34m.\u001b[0m\u001b[0mreshape\u001b[0m\u001b[0;34m(\u001b[0m\u001b[0;36m2\u001b[0m\u001b[0;34m,\u001b[0m\u001b[0;36m4\u001b[0m\u001b[0;34m)\u001b[0m\u001b[0;34m\u001b[0m\u001b[0;34m\u001b[0m\u001b[0m\n\u001b[1;32m      4\u001b[0m \u001b[0mb\u001b[0m \u001b[0;34m=\u001b[0m \u001b[0mnp\u001b[0m\u001b[0;34m.\u001b[0m\u001b[0marange\u001b[0m\u001b[0;34m(\u001b[0m\u001b[0;36m9\u001b[0m\u001b[0;34m,\u001b[0m\u001b[0;36m17\u001b[0m\u001b[0;34m)\u001b[0m\u001b[0;34m.\u001b[0m\u001b[0mreshape\u001b[0m\u001b[0;34m(\u001b[0m\u001b[0;36m2\u001b[0m\u001b[0;34m,\u001b[0m\u001b[0;36m4\u001b[0m\u001b[0;34m)\u001b[0m\u001b[0;34m\u001b[0m\u001b[0;34m\u001b[0m\u001b[0m\n\u001b[0;32m----> 5\u001b[0;31m \u001b[0mc\u001b[0m \u001b[0;34m=\u001b[0m \u001b[0mnp\u001b[0m\u001b[0;34m.\u001b[0m\u001b[0mdot\u001b[0m\u001b[0;34m(\u001b[0m\u001b[0ma\u001b[0m\u001b[0;34m,\u001b[0m\u001b[0mb\u001b[0m\u001b[0;34m)\u001b[0m\u001b[0;34m\u001b[0m\u001b[0;34m\u001b[0m\u001b[0m\n\u001b[0m\u001b[1;32m      6\u001b[0m \u001b[0;31m#print(c)\u001b[0m\u001b[0;34m\u001b[0m\u001b[0;34m\u001b[0m\u001b[0;34m\u001b[0m\u001b[0m\n\u001b[1;32m      7\u001b[0m \u001b[0;34m\u001b[0m\u001b[0m\n",
            "\u001b[0;32m<__array_function__ internals>\u001b[0m in \u001b[0;36mdot\u001b[0;34m(*args, **kwargs)\u001b[0m\n",
            "\u001b[0;31mValueError\u001b[0m: shapes (2,4) and (2,4) not aligned: 4 (dim 1) != 2 (dim 0)"
          ]
        }
      ]
    },
    {
      "cell_type": "markdown",
      "metadata": {
        "id": "s3zg2NthBzk-"
      },
      "source": [
        "The answer above, I want to figure out why it's not working, its because the number of rows and columns must match"
      ]
    },
    {
      "cell_type": "code",
      "metadata": {
        "colab": {
          "base_uri": "https://localhost:8080/"
        },
        "id": "kkbPj1mxA9WO",
        "outputId": "7ab29cf2-f998-413a-dcda-08379f39cb63"
      },
      "source": [
        "import numpy as np\n",
        "\n",
        "a = np.arange(1,10).reshape(3,3)\n",
        "b= np.arange(10,19).reshape(3,3)\n",
        "c = np.dot(a,b)\n",
        "\n",
        "print(c)\n",
        "\n",
        "e = np.sum(c,axis = 1)\n",
        "print(e)"
      ],
      "execution_count": null,
      "outputs": [
        {
          "output_type": "stream",
          "name": "stdout",
          "text": [
            "[[ 84  90  96]\n",
            " [201 216 231]\n",
            " [318 342 366]]\n",
            "[ 270  648 1026]\n"
          ]
        }
      ]
    },
    {
      "cell_type": "code",
      "metadata": {
        "colab": {
          "base_uri": "https://localhost:8080/"
        },
        "id": "qQKlWJ7Zr_aH",
        "outputId": "d75519ce-199c-4020-fe36-559e5c63c293"
      },
      "source": [
        "from google.colab import drive\n",
        "drive.mount('/content/drive')"
      ],
      "execution_count": 5,
      "outputs": [
        {
          "output_type": "stream",
          "name": "stdout",
          "text": [
            "Drive already mounted at /content/drive; to attempt to forcibly remount, call drive.mount(\"/content/drive\", force_remount=True).\n"
          ]
        }
      ]
    },
    {
      "cell_type": "code",
      "metadata": {
        "colab": {
          "base_uri": "https://localhost:8080/",
          "height": 551
        },
        "id": "0hty170yu3xT",
        "outputId": "098c4b73-a317-4efe-c9c1-369cda36aaca"
      },
      "source": [
        "import pandas as pd\n",
        "\n",
        "path = \"/content/drive/MyDrive/country_ratings (1).csv\"\n",
        "df = pd.read_csv(path)\n",
        "df.shape\n",
        "print(df.iloc[3:9])\n",
        "df['Number of All-Inclusive'].mean()\n",
        "df['Hotel Rating'].min()\n",
        "print(df.iloc[df['Hotel Rating'].max()])\n",
        "df['Number of All-Inclusive']> 9\n",
        "df['Rating out 10']>8\n",
        "df['Rating out 10']>2\n",
        "\n",
        "df.plot.scatter(x='Country', y='Rating out 10')\n"
      ],
      "execution_count": 43,
      "outputs": [
        {
          "output_type": "stream",
          "name": "stdout",
          "text": [
            "    Country  Rating out 10  ...  Number of All-Inclusive  Most Visited City\n",
            "3    Gambia            7.5  ...                        4             Banjul\n",
            "4  Morocco             5.0  ...                        2          Marrakesh\n",
            "5    Turkey            7.0  ...                        6             Ankara\n",
            "6     Spain            9.0  ...                        6             Madrid\n",
            "7  Portugal            9.0  ...                        4             Lisbon\n",
            "8    Brazil            7.5  ...                        2           Brasilia\n",
            "\n",
            "[6 rows x 5 columns]\n",
            "Country                    Turkey\n",
            "Rating out 10                   7\n",
            "Hotel Rating                    4\n",
            "Number of All-Inclusive         6\n",
            "Most Visited City          Ankara\n",
            "Name: 5, dtype: object\n"
          ]
        },
        {
          "output_type": "execute_result",
          "data": {
            "text/plain": [
              "<matplotlib.axes._subplots.AxesSubplot at 0x7fe4adb772d0>"
            ]
          },
          "metadata": {},
          "execution_count": 43
        },
        {
          "output_type": "display_data",
          "data": {
            "image/png": "[encoded data removed]",
            "text/plain": [
              "<Figure size 432x288 with 1 Axes>"
            ]
          },
          "metadata": {
            "needs_background": "light"
          }
        }
      ]
    }
  ]
}