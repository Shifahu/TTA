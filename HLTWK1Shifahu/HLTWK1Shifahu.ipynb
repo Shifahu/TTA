{
 "cells": [
  {
   "cell_type": "code",
   "execution_count": 7,
   "source": [
    "import random\n",
    "myName = input(\"hello, what's your name?\")\n",
    "randomNumber = random.randint(1,10)\n",
    "guess = int(input(myName +\" \" \"take a guess between 1 to 10\"))\n",
    "\n",
    "if guess == randomNumber:\n",
    "    print(\"Well done you guessed correctly!\")\n",
    "else :\n",
    "    print(\"what a shame! Better luck next time.\")\n"
   ],
   "outputs": [
    {
     "output_type": "stream",
     "name": "stdout",
     "text": [
      "what a shame! Better luck next time.\n"
     ]
    }
   ],
   "metadata": {}
  },
  {
   "cell_type": "code",
   "execution_count": 10,
   "source": [
    "number = int(input(\"Guess a number between 1 to 100\"))\n",
    "if number in range(1,25):\n",
    "    print(\"What’s the best thing about Switzerland? I don’t know, but the flag is a big plus.\")\n",
    "elif number in range(25,50):\n",
    "    print(\"Did you hear about the mathematician who’s afraid of negative numbers? He’ll stop at nothing to avoid them.\")\n",
    "elif number in range(50, 75):\n",
    "    print(\"Did you hear about the actor who fell through the floorboards? He was just going through a stage.\")\n",
    "elif number in range(75, 101):\n",
    "    print(\"Why don’t scientists trust atoms? Because they make up everything.\")\n"
   ],
   "outputs": [
    {
     "output_type": "stream",
     "name": "stdout",
     "text": [
      "Why don’t scientists trust atoms? Because they make up everything.\n"
     ]
    }
   ],
   "metadata": {}
  },
  {
   "cell_type": "code",
   "execution_count": 11,
   "source": [
    "starter = input(\"what's your favourite starter?\")\n",
    "main_course = input(\"what's your favourite main course?\")\n",
    "dessert = input(\"what's your favourite dessert?\")\n",
    "drink = input(\"what's your favourite drink?\")\n",
    "print(\"your favourite meal is \" +starter+ \" with \" + main_course+ \" and \" +dessert+ \" as dessert, with a glass of \" +drink)\n"
   ],
   "outputs": [
    {
     "output_type": "stream",
     "name": "stdout",
     "text": [
      "your favourite meal is calamari with steak and ice cream as dessert, with a glass ofmoscato\n"
     ]
    }
   ],
   "metadata": {}
  },
  {
   "cell_type": "code",
   "execution_count": 16,
   "source": [
    "def depreciation(cost):\n",
    "    year=1\n",
    "    cost=int(input(\"initial cost of motorcycle\"))\n",
    "    while cost >1000:\n",
    "        print(\"year\",year, \"= £\",cost)\n",
    "        year+=1\n",
    "        cost=cost*0.90"
   ],
   "outputs": [
    {
     "output_type": "stream",
     "name": "stdout",
     "text": [
      "year 1 = £ 2000\n",
      "year 2 = £ 1800.0\n",
      "year 3 = £ 1620.0\n",
      "year 4 = £ 1458.0\n",
      "year 5 = £ 1312.2\n",
      "year 6 = £ 1180.98\n",
      "year 7 = £ 1062.882\n"
     ]
    }
   ],
   "metadata": {}
  },
  {
   "cell_type": "code",
   "execution_count": 20,
   "source": [
    "def calculator(number1, number2, operation)\n",
    "number1 = int(input(\"what's your first number?\"))\n",
    "number2 = int(input(\"what's your second number?\"))\n",
    "operation = input('''\n",
    "Please type in the math operation you would like to complete:\n",
    "a for addition\n",
    "b for subtraction\n",
    "c for multiplication\n",
    "d for division\n",
    "e for exponentiation\n",
    "''')\n",
    "if operation == 'a':\n",
    "    print('{} + {} = '.format(number1, number2))\n",
    "    print(number1 + number2)\n",
    "\n",
    "elif operation == 'b':\n",
    "    print('{} - {} = '.format(number1, number2))\n",
    "    print(number1 - number2)\n",
    "\n",
    "elif operation == 'c':\n",
    "    print('{} * {} = '.format(number1, number2))\n",
    "    print(number1 * number2)\n",
    "\n",
    "elif operation == 'd':\n",
    "    print('{} / {} = '.format(number1, number2))\n",
    "    print(number1 / number2)\n",
    "elif operation == 'e':\n",
    "    print('{} ** {} = '.format(number1, number2))\n",
    "    print(number1 ** number2)\n",
    "else:\n",
    "    print('You have not typed a valid operator, please run the program again.')\n",
    "\n"
   ],
   "outputs": [
    {
     "output_type": "stream",
     "name": "stdout",
     "text": [
      "1 ** 9 = \n",
      "1\n"
     ]
    }
   ],
   "metadata": {}
  },
  {
   "cell_type": "code",
   "execution_count": 21,
   "source": [
    "age = int(input(\"how old are you?\"))\n",
    "if age > 18:\n",
    "    print(\"you're an adult\")\n",
    "else:\n",
    "    print(\"you're still a child\")"
   ],
   "outputs": [
    {
     "output_type": "stream",
     "name": "stdout",
     "text": [
      "you're an adult\n"
     ]
    }
   ],
   "metadata": {}
  },
  {
   "cell_type": "code",
   "execution_count": 32,
   "source": [
    "my_file = open(\"Numbers.txt\", \"a\")\n",
    "my_file.write(\"3\")\n",
    "my_file.write(\"\\n\")\n",
    "my_file.write(\"45\")\n",
    "my_file.write(\"\\n\")\n",
    "my_file.write(\"83\")\n",
    "my_file.write(\"\\n\")\n",
    "my_file.write(\"21\")\n",
    "\n",
    "my_file.close()\n"
   ],
   "outputs": [],
   "metadata": {}
  },
  {
   "cell_type": "code",
   "execution_count": 41,
   "source": [
    "def mark_grade():\n",
    "    user_grade = int(input(\"what is your percentage score\"))\n",
    "    if user_grade in range(1, 65):\n",
    "        grade =\"D\"\n",
    "    elif user_grade in range(65, 69):\n",
    "        grade = \"C\"\n",
    "    elif user_grade in range(69, 70):\n",
    "        grade = \"B\"\n",
    "    elif user_grade in range(70, 80):\n",
    "        grade = \"A\"\n",
    "    target_grade = input(\"what's your target grade?\")\n",
    "    if target_grade == grade:\n",
    "        print(\"On target!\")\n",
    "    elif target_grade < grade:\n",
    "        print(\"Better luck next time!\")\n",
    "    else:\n",
    "       print (\"Wow, doing really well!\")\n",
    "\n",
    "mark_grade()"
   ],
   "outputs": [
    {
     "output_type": "stream",
     "name": "stdout",
     "text": [
      "Wow, doing really well!\n"
     ]
    }
   ],
   "metadata": {}
  }
 ],
 "metadata": {
  "orig_nbformat": 4,
  "language_info": {
   "name": "python",
   "version": "3.9.7",
   "mimetype": "text/x-python",
   "codemirror_mode": {
    "name": "ipython",
    "version": 3
   },
   "pygments_lexer": "ipython3",
   "nbconvert_exporter": "python",
   "file_extension": ".py"
  },
  "kernelspec": {
   "name": "python3",
   "display_name": "Python 3.9.7 64-bit"
  },
  "interpreter": {
   "hash": "aee8b7b246df8f9039afb4144a1f6fd8d2ca17a180786b69acc140d282b71a49"
  }
 },
 "nbformat": 4,
 "nbformat_minor": 2
}